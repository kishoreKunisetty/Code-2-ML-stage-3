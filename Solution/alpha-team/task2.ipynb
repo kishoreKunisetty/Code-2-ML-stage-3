{
 "cells": [
  {
   "cell_type": "code",
   "execution_count": 1,
   "id": "specified-brooks",
   "metadata": {},
   "outputs": [],
   "source": [
    "import pandas as pd\n",
    "import numpy as np\n",
    "import matplotlib.pyplot as plt\n",
    "import seaborn as sns"
   ]
  },
  {
   "cell_type": "code",
   "execution_count": 16,
   "id": "postal-swing",
   "metadata": {},
   "outputs": [
    {
     "data": {
      "text/html": [
       "<div>\n",
       "<style scoped>\n",
       "    .dataframe tbody tr th:only-of-type {\n",
       "        vertical-align: middle;\n",
       "    }\n",
       "\n",
       "    .dataframe tbody tr th {\n",
       "        vertical-align: top;\n",
       "    }\n",
       "\n",
       "    .dataframe thead th {\n",
       "        text-align: right;\n",
       "    }\n",
       "</style>\n",
       "<table border=\"1\" class=\"dataframe\">\n",
       "  <thead>\n",
       "    <tr style=\"text-align: right;\">\n",
       "      <th></th>\n",
       "      <th>Stock Index</th>\n",
       "      <th>Put-Call Ratio</th>\n",
       "      <th>Unnamed: 2</th>\n",
       "      <th>Unnamed: 3</th>\n",
       "      <th>Unnamed: 4</th>\n",
       "      <th>Unnamed: 5</th>\n",
       "      <th>Unnamed: 6</th>\n",
       "    </tr>\n",
       "  </thead>\n",
       "  <tbody>\n",
       "    <tr>\n",
       "      <th>1</th>\n",
       "      <td>AC3235</td>\n",
       "      <td>0.8</td>\n",
       "      <td>0.66</td>\n",
       "      <td>0.7724</td>\n",
       "      <td>0.983224</td>\n",
       "      <td>0.901211</td>\n",
       "      <td>0.898368</td>\n",
       "    </tr>\n",
       "    <tr>\n",
       "      <th>2</th>\n",
       "      <td>AC3236</td>\n",
       "      <td>0.86</td>\n",
       "      <td>0.732</td>\n",
       "      <td>0.85448</td>\n",
       "      <td>1.08664</td>\n",
       "      <td>1.01704</td>\n",
       "      <td>1.02926</td>\n",
       "    </tr>\n",
       "    <tr>\n",
       "      <th>3</th>\n",
       "      <td>AC3237</td>\n",
       "      <td>0.93</td>\n",
       "      <td>0.816</td>\n",
       "      <td>0.95024</td>\n",
       "      <td>1.2073</td>\n",
       "      <td>NaN</td>\n",
       "      <td>1.18196</td>\n",
       "    </tr>\n",
       "    <tr>\n",
       "      <th>4</th>\n",
       "      <td>AC3238</td>\n",
       "      <td>1.09</td>\n",
       "      <td>1.008</td>\n",
       "      <td>1.16912</td>\n",
       "      <td>1.48309</td>\n",
       "      <td>1.46106</td>\n",
       "      <td>1.531</td>\n",
       "    </tr>\n",
       "    <tr>\n",
       "      <th>5</th>\n",
       "      <td>AC3239</td>\n",
       "      <td>NaN</td>\n",
       "      <td>1.104</td>\n",
       "      <td>1.27856</td>\n",
       "      <td>1.62099</td>\n",
       "      <td>1.6155</td>\n",
       "      <td>1.70552</td>\n",
       "    </tr>\n",
       "  </tbody>\n",
       "</table>\n",
       "</div>"
      ],
      "text/plain": [
       "  Stock Index Put-Call Ratio Unnamed: 2 Unnamed: 3 Unnamed: 4 Unnamed: 5  \\\n",
       "1      AC3235            0.8       0.66     0.7724   0.983224   0.901211   \n",
       "2      AC3236           0.86      0.732    0.85448    1.08664    1.01704   \n",
       "3      AC3237           0.93      0.816    0.95024     1.2073        NaN   \n",
       "4      AC3238           1.09      1.008    1.16912    1.48309    1.46106   \n",
       "5      AC3239            NaN      1.104    1.27856    1.62099     1.6155   \n",
       "\n",
       "  Unnamed: 6  \n",
       "1   0.898368  \n",
       "2    1.02926  \n",
       "3    1.18196  \n",
       "4      1.531  \n",
       "5    1.70552  "
      ]
     },
     "execution_count": 16,
     "metadata": {},
     "output_type": "execute_result"
    }
   ],
   "source": [
    "# data preprocessing\n",
    "\n",
    "df = pd.read_excel('Test_dataset.xlsx',sheet_name = 'Put-Call_TS')\n",
    "df = df.iloc[1:]    # Removing 1st row\n",
    "df.head()"
   ]
  },
  {
   "cell_type": "code",
   "execution_count": 17,
   "id": "confirmed-twist",
   "metadata": {},
   "outputs": [],
   "source": [
    "stock_index = df['Stock Index']"
   ]
  },
  {
   "cell_type": "code",
   "execution_count": 19,
   "id": "official-concentrate",
   "metadata": {},
   "outputs": [
    {
     "data": {
      "text/html": [
       "<div>\n",
       "<style scoped>\n",
       "    .dataframe tbody tr th:only-of-type {\n",
       "        vertical-align: middle;\n",
       "    }\n",
       "\n",
       "    .dataframe tbody tr th {\n",
       "        vertical-align: top;\n",
       "    }\n",
       "\n",
       "    .dataframe thead th {\n",
       "        text-align: right;\n",
       "    }\n",
       "</style>\n",
       "<table border=\"1\" class=\"dataframe\">\n",
       "  <thead>\n",
       "    <tr style=\"text-align: right;\">\n",
       "      <th></th>\n",
       "      <th>Stock Index</th>\n",
       "      <th>Put-Call Ratio</th>\n",
       "      <th>Unnamed: 2</th>\n",
       "      <th>Unnamed: 3</th>\n",
       "      <th>Unnamed: 4</th>\n",
       "      <th>Unnamed: 5</th>\n",
       "      <th>Unnamed: 6</th>\n",
       "    </tr>\n",
       "  </thead>\n",
       "  <tbody>\n",
       "    <tr>\n",
       "      <th>1</th>\n",
       "      <td>AC3235</td>\n",
       "      <td>0.8</td>\n",
       "      <td>0.66</td>\n",
       "      <td>0.7724</td>\n",
       "      <td>0.983224</td>\n",
       "      <td>0.901211</td>\n",
       "      <td>0.898368</td>\n",
       "    </tr>\n",
       "    <tr>\n",
       "      <th>2</th>\n",
       "      <td>AC3236</td>\n",
       "      <td>0.86</td>\n",
       "      <td>0.732</td>\n",
       "      <td>0.85448</td>\n",
       "      <td>1.08664</td>\n",
       "      <td>1.01704</td>\n",
       "      <td>1.02926</td>\n",
       "    </tr>\n",
       "    <tr>\n",
       "      <th>3</th>\n",
       "      <td>AC3237</td>\n",
       "      <td>0.93</td>\n",
       "      <td>0.816</td>\n",
       "      <td>0.95024</td>\n",
       "      <td>1.2073</td>\n",
       "      <td>NaN</td>\n",
       "      <td>1.18196</td>\n",
       "    </tr>\n",
       "    <tr>\n",
       "      <th>4</th>\n",
       "      <td>AC3238</td>\n",
       "      <td>1.09</td>\n",
       "      <td>1.008</td>\n",
       "      <td>1.16912</td>\n",
       "      <td>1.48309</td>\n",
       "      <td>1.46106</td>\n",
       "      <td>1.531</td>\n",
       "    </tr>\n",
       "    <tr>\n",
       "      <th>5</th>\n",
       "      <td>AC3239</td>\n",
       "      <td>NaN</td>\n",
       "      <td>1.104</td>\n",
       "      <td>1.27856</td>\n",
       "      <td>1.62099</td>\n",
       "      <td>1.6155</td>\n",
       "      <td>1.70552</td>\n",
       "    </tr>\n",
       "  </tbody>\n",
       "</table>\n",
       "</div>"
      ],
      "text/plain": [
       "  Stock Index Put-Call Ratio Unnamed: 2 Unnamed: 3 Unnamed: 4 Unnamed: 5  \\\n",
       "1      AC3235            0.8       0.66     0.7724   0.983224   0.901211   \n",
       "2      AC3236           0.86      0.732    0.85448    1.08664    1.01704   \n",
       "3      AC3237           0.93      0.816    0.95024     1.2073        NaN   \n",
       "4      AC3238           1.09      1.008    1.16912    1.48309    1.46106   \n",
       "5      AC3239            NaN      1.104    1.27856    1.62099     1.6155   \n",
       "\n",
       "  Unnamed: 6  \n",
       "1   0.898368  \n",
       "2    1.02926  \n",
       "3    1.18196  \n",
       "4      1.531  \n",
       "5    1.70552  "
      ]
     },
     "execution_count": 19,
     "metadata": {},
     "output_type": "execute_result"
    }
   ],
   "source": [
    "df.head()"
   ]
  },
  {
   "cell_type": "code",
   "execution_count": 20,
   "id": "agricultural-hypothetical",
   "metadata": {},
   "outputs": [
    {
     "data": {
      "text/plain": [
       "Stock Index         0\n",
       "Put-Call Ratio    429\n",
       "Unnamed: 2          2\n",
       "Unnamed: 3         57\n",
       "Unnamed: 4         14\n",
       "Unnamed: 5        105\n",
       "Unnamed: 6        239\n",
       "dtype: int64"
      ]
     },
     "execution_count": 20,
     "metadata": {},
     "output_type": "execute_result"
    }
   ],
   "source": [
    "df.isnull().sum()   # check for null value"
   ]
  },
  {
   "cell_type": "code",
   "execution_count": 21,
   "id": "comparable-economics",
   "metadata": {},
   "outputs": [],
   "source": [
    "df[\"Put-Call Ratio\"].fillna(df[\"Put-Call Ratio\"].mean(), inplace=True)\n",
    "df[\"Unnamed: 2\"].fillna(df[\"Unnamed: 2\"].mean(),inplace=True)\n",
    "df[\"Unnamed: 3\"].fillna(df[\"Unnamed: 3\"].mean(),inplace=True)\n",
    "df[\"Unnamed: 4\"].fillna(df[\"Unnamed: 4\"].mean(),inplace=True)\n",
    "df[\"Unnamed: 5\"].fillna(df[\"Unnamed: 5\"].mean(),inplace=True)\n",
    "df[\"Unnamed: 6\"].fillna(df[\"Unnamed: 6\"].mean(),inplace=True)\n",
    "\n"
   ]
  },
  {
   "cell_type": "code",
   "execution_count": 35,
   "id": "disabled-western",
   "metadata": {},
   "outputs": [
    {
     "name": "stdout",
     "output_type": "stream",
     "text": [
      "(3331, 5) (3331,)\n"
     ]
    }
   ],
   "source": [
    "x = df[['Put-Call Ratio','Unnamed: 2','Unnamed: 3','Unnamed: 4','Unnamed: 5']]\n",
    "y = df['Unnamed: 6']\n",
    "print(x.shape, y.shape)"
   ]
  },
  {
   "cell_type": "code",
   "execution_count": 36,
   "id": "indonesian-writing",
   "metadata": {},
   "outputs": [],
   "source": [
    "test_x = df[['Unnamed: 2','Unnamed: 3','Unnamed: 4','Unnamed: 5','Unnamed: 6']]"
   ]
  },
  {
   "cell_type": "code",
   "execution_count": 37,
   "id": "regulated-cotton",
   "metadata": {},
   "outputs": [],
   "source": [
    "import xgboost as xg"
   ]
  },
  {
   "cell_type": "code",
   "execution_count": 49,
   "id": "cutting-chain",
   "metadata": {},
   "outputs": [
    {
     "name": "stdout",
     "output_type": "stream",
     "text": [
      "[10:20:43] WARNING: /Users/runner/miniforge3/conda-bld/xgboost_1607604592557/work/src/objective/regression_obj.cu:170: reg:linear is now deprecated in favor of reg:squarederror.\n"
     ]
    },
    {
     "data": {
      "text/plain": [
       "XGBRegressor(base_score=0.5, booster='gbtree', colsample_bylevel=1,\n",
       "             colsample_bynode=1, colsample_bytree=1, gamma=0, gpu_id=-1,\n",
       "             importance_type='gain', interaction_constraints='',\n",
       "             learning_rate=0.300000012, max_delta_step=0, max_depth=6,\n",
       "             min_child_weight=1, missing=nan, monotone_constraints='()',\n",
       "             n_estimators=10, n_jobs=8, num_parallel_tree=1,\n",
       "             objective='reg:linear', random_state=123, reg_alpha=0,\n",
       "             reg_lambda=1, scale_pos_weight=1, seed=123, subsample=1,\n",
       "             tree_method='exact', validate_parameters=1, verbosity=None)"
      ]
     },
     "execution_count": 49,
     "metadata": {},
     "output_type": "execute_result"
    }
   ],
   "source": [
    "from sklearn.metrics import r2_score,mean_absolute_error,mean_squared_error\n",
    "MSE = mean_squared_error\n",
    "# x = x.to_numpy()\n",
    "# y = y.to_numpy()\n",
    "xgb_r = xg.XGBRegressor(objective ='reg:linear', n_estimators = 10, seed = 123) \n",
    "\n",
    "xgb_r.fit(x, y)\n",
    "\n",
    "# xg_preds = xgb_r.predict(test_x)\n",
    "# print(\"MSE : \",MSE(test_y, xg_preds), \"\\nR^2 : \",r2_score(test_y,xg_preds),\"\\nmae : \",mean_absolute_error(test_y, xg_preds))"
   ]
  },
  {
   "cell_type": "code",
   "execution_count": 57,
   "id": "formed-hepatitis",
   "metadata": {},
   "outputs": [],
   "source": [
    "xg_preds = xgb_r.predict(test_x.to_numpy())"
   ]
  },
  {
   "cell_type": "code",
   "execution_count": 55,
   "id": "english-silicon",
   "metadata": {},
   "outputs": [
    {
     "name": "stdout",
     "output_type": "stream",
     "text": [
      "MSE :  0.008347110409200761 \n",
      "R^2 :  0.9539028270826 \n",
      "mae :  0.046593433365000395\n"
     ]
    }
   ],
   "source": [
    "print(\"MSE : \",MSE(y, xg_preds), \"\\nR^2 : \",r2_score(y,xg_preds),\"\\nmae : \",mean_absolute_error(y, xg_preds))#measured with train data and changed the value in xg_preds ."
   ]
  },
  {
   "cell_type": "code",
   "execution_count": 58,
   "id": "unsigned-newark",
   "metadata": {},
   "outputs": [
    {
     "data": {
      "text/plain": [
       "1       AC3235\n",
       "2       AC3236\n",
       "3       AC3237\n",
       "4       AC3238\n",
       "5       AC3239\n",
       "         ...  \n",
       "3327    AD2734\n",
       "3328    AD2735\n",
       "3329    AD2736\n",
       "3330    AD2737\n",
       "3331    AD2738\n",
       "Name: Stock Index, Length: 3331, dtype: object"
      ]
     },
     "execution_count": 58,
     "metadata": {},
     "output_type": "execute_result"
    }
   ],
   "source": [
    "stock_index"
   ]
  },
  {
   "cell_type": "code",
   "execution_count": 59,
   "id": "collect-option",
   "metadata": {},
   "outputs": [
    {
     "data": {
      "text/html": [
       "<div>\n",
       "<style scoped>\n",
       "    .dataframe tbody tr th:only-of-type {\n",
       "        vertical-align: middle;\n",
       "    }\n",
       "\n",
       "    .dataframe tbody tr th {\n",
       "        vertical-align: top;\n",
       "    }\n",
       "\n",
       "    .dataframe thead th {\n",
       "        text-align: right;\n",
       "    }\n",
       "</style>\n",
       "<table border=\"1\" class=\"dataframe\">\n",
       "  <thead>\n",
       "    <tr style=\"text-align: right;\">\n",
       "      <th></th>\n",
       "      <th>Stock Index</th>\n",
       "      <th>Stock Price</th>\n",
       "    </tr>\n",
       "  </thead>\n",
       "  <tbody>\n",
       "    <tr>\n",
       "      <th>1</th>\n",
       "      <td>AC3235</td>\n",
       "      <td>0.613008</td>\n",
       "    </tr>\n",
       "    <tr>\n",
       "      <th>2</th>\n",
       "      <td>AC3236</td>\n",
       "      <td>1.129945</td>\n",
       "    </tr>\n",
       "    <tr>\n",
       "      <th>3</th>\n",
       "      <td>AC3237</td>\n",
       "      <td>1.263498</td>\n",
       "    </tr>\n",
       "    <tr>\n",
       "      <th>4</th>\n",
       "      <td>AC3238</td>\n",
       "      <td>1.471592</td>\n",
       "    </tr>\n",
       "    <tr>\n",
       "      <th>5</th>\n",
       "      <td>AC3239</td>\n",
       "      <td>1.769298</td>\n",
       "    </tr>\n",
       "    <tr>\n",
       "      <th>...</th>\n",
       "      <td>...</td>\n",
       "      <td>...</td>\n",
       "    </tr>\n",
       "    <tr>\n",
       "      <th>3327</th>\n",
       "      <td>AD2734</td>\n",
       "      <td>1.129945</td>\n",
       "    </tr>\n",
       "    <tr>\n",
       "      <th>3328</th>\n",
       "      <td>AD2735</td>\n",
       "      <td>0.463232</td>\n",
       "    </tr>\n",
       "    <tr>\n",
       "      <th>3329</th>\n",
       "      <td>AD2736</td>\n",
       "      <td>0.463232</td>\n",
       "    </tr>\n",
       "    <tr>\n",
       "      <th>3330</th>\n",
       "      <td>AD2737</td>\n",
       "      <td>0.577960</td>\n",
       "    </tr>\n",
       "    <tr>\n",
       "      <th>3331</th>\n",
       "      <td>AD2738</td>\n",
       "      <td>0.463232</td>\n",
       "    </tr>\n",
       "  </tbody>\n",
       "</table>\n",
       "<p>3331 rows × 2 columns</p>\n",
       "</div>"
      ],
      "text/plain": [
       "     Stock Index  Stock Price\n",
       "1         AC3235     0.613008\n",
       "2         AC3236     1.129945\n",
       "3         AC3237     1.263498\n",
       "4         AC3238     1.471592\n",
       "5         AC3239     1.769298\n",
       "...          ...          ...\n",
       "3327      AD2734     1.129945\n",
       "3328      AD2735     0.463232\n",
       "3329      AD2736     0.463232\n",
       "3330      AD2737     0.577960\n",
       "3331      AD2738     0.463232\n",
       "\n",
       "[3331 rows x 2 columns]"
      ]
     },
     "execution_count": 59,
     "metadata": {},
     "output_type": "execute_result"
    }
   ],
   "source": [
    "pred_df = stock_index.to_frame(name = 'Stock Index')\n",
    "pred_df['Stock Price']=xg_preds\n",
    "pred_df"
   ]
  },
  {
   "cell_type": "code",
   "execution_count": 60,
   "id": "encouraging-holly",
   "metadata": {},
   "outputs": [],
   "source": [
    "pred_df.to_csv('task_2.csv')"
   ]
  },
  {
   "cell_type": "code",
   "execution_count": null,
   "id": "federal-breach",
   "metadata": {},
   "outputs": [],
   "source": []
  }
 ],
 "metadata": {
  "kernelspec": {
   "display_name": "Python 3",
   "language": "python",
   "name": "python3"
  },
  "language_info": {
   "codemirror_mode": {
    "name": "ipython",
    "version": 3
   },
   "file_extension": ".py",
   "mimetype": "text/x-python",
   "name": "python",
   "nbconvert_exporter": "python",
   "pygments_lexer": "ipython3",
   "version": "3.6.13"
  }
 },
 "nbformat": 4,
 "nbformat_minor": 5
}
